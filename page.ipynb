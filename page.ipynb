{
 "cells": [
  {
   "cell_type": "code",
   "execution_count": null,
   "id": "a0009469",
   "metadata": {},
   "outputs": [],
   "source": [
    "import sys\n",
    "from PyQt5 import QtCore, QtGui, QtWidgets ,QtSql\n",
    "from PyQt5.QtCore import *\n",
    "from PyQt5.QtWidgets import *\n",
    "from PyQt5.QtGui import *\n",
    "\n",
    "#from Ui_Main import Ui_MainWindow  #由.UI檔案生成.py檔案後，匯入建立的GUI類\n",
    "from page_window import Ui_MainWindow as page_ui\n",
    "from PyQt5.QtSql import QSqlDatabase,QSqlQuery\n",
    "\n",
    "\n",
    "\n",
    "\n",
    "class Page_Window(QtWidgets.QMainWindow):  \n",
    " \n",
    "    def __init__(self): \n",
    "        super(Page_Window, self).__init__()\n",
    "        self.ui = page_ui()\n",
    "        self.ui.setupUi(self)\n",
    "        self.setWindowTitle('Page_Window')\n",
    "        # 將點選事件與槽函式進行連線\n",
    "        #self.ui.label_15.setText()\n",
    "        print(self.user_name)\n",
    "    \n",
    "    def get_message(self, user_name, password):\n",
    "        print(user_name, password)\n",
    "    \n",
    "        \n",
    "        \n",
    "        \n",
    "        \n",
    "        \n",
    "        \n",
    "         \n",
    "\n",
    "\n",
    "    \n",
    "\n",
    "\n",
    "\n",
    "if __name__ == '__main__': \n",
    "    app = QtWidgets.QApplication(sys.argv) \n",
    "    window = Page_Window()\n",
    "    window.show() \n",
    "    sys.exit(app.exec_()) \n",
    "\n",
    "\n"
   ]
  }
 ],
 "metadata": {
  "kernelspec": {
   "display_name": "Python 3 (ipykernel)",
   "language": "python",
   "name": "python3"
  },
  "language_info": {
   "codemirror_mode": {
    "name": "ipython",
    "version": 3
   },
   "file_extension": ".py",
   "mimetype": "text/x-python",
   "name": "python",
   "nbconvert_exporter": "python",
   "pygments_lexer": "ipython3",
   "version": "3.7.11"
  }
 },
 "nbformat": 4,
 "nbformat_minor": 5
}
