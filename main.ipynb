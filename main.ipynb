{
 "cells": [
  {
   "cell_type": "code",
   "execution_count": 1,
   "id": "9cae3079",
   "metadata": {},
   "outputs": [
    {
     "name": "stderr",
     "output_type": "stream",
     "text": [
      "2022-01-06 21:55:26.307 python[16895:5622374] TSM AdjustCapsLockLEDForKeyTransitionHandling - _ISSetPhysicalKeyboardCapsLockLED Inhibit\n"
     ]
    },
    {
     "name": "stdout",
     "output_type": "stream",
     "text": [
      "True\n",
      "False\n",
      "False\n",
      "False\n"
     ]
    },
    {
     "name": "stderr",
     "output_type": "stream",
     "text": [
      "QSqlDatabasePrivate::removeDatabase: connection 'qt_sql_default_connection' is still in use, all queries will cease to work.\n",
      "QSqlDatabasePrivate::addDatabase: duplicate connection name 'qt_sql_default_connection', old connection removed.\n"
     ]
    },
    {
     "name": "stdout",
     "output_type": "stream",
     "text": [
      "True\n",
      "False\n",
      "False\n",
      "False\n",
      "hello\n",
      "hello False\n"
     ]
    },
    {
     "name": "stderr",
     "output_type": "stream",
     "text": [
      "QSqlDatabasePrivate::removeDatabase: connection 'qt_sql_default_connection' is still in use, all queries will cease to work.\n",
      "QSqlDatabasePrivate::addDatabase: duplicate connection name 'qt_sql_default_connection', old connection removed.\n",
      "QSqlQuery::exec: empty query\n"
     ]
    },
    {
     "name": "stdout",
     "output_type": "stream",
     "text": [
      "hello\n",
      "hello False\n"
     ]
    },
    {
     "name": "stderr",
     "output_type": "stream",
     "text": [
      "QSqlDatabasePrivate::removeDatabase: connection 'qt_sql_default_connection' is still in use, all queries will cease to work.\n",
      "QSqlDatabasePrivate::addDatabase: duplicate connection name 'qt_sql_default_connection', old connection removed.\n",
      "QSqlQuery::exec: empty query\n",
      "QSqlDatabasePrivate::removeDatabase: connection 'qt_sql_default_connection' is still in use, all queries will cease to work.\n",
      "QSqlDatabasePrivate::addDatabase: duplicate connection name 'qt_sql_default_connection', old connection removed.\n"
     ]
    },
    {
     "name": "stdout",
     "output_type": "stream",
     "text": [
      "True\n",
      "False\n",
      "False\n",
      "False\n"
     ]
    },
    {
     "name": "stderr",
     "output_type": "stream",
     "text": [
      "QSqlDatabasePrivate::removeDatabase: connection 'qt_sql_default_connection' is still in use, all queries will cease to work.\n",
      "QSqlDatabasePrivate::addDatabase: duplicate connection name 'qt_sql_default_connection', old connection removed.\n"
     ]
    },
    {
     "name": "stdout",
     "output_type": "stream",
     "text": [
      "True\n",
      "False\n",
      "False\n",
      "False\n"
     ]
    },
    {
     "name": "stderr",
     "output_type": "stream",
     "text": [
      "QSqlDatabasePrivate::removeDatabase: connection 'qt_sql_default_connection' is still in use, all queries will cease to work.\n",
      "QSqlDatabasePrivate::addDatabase: duplicate connection name 'qt_sql_default_connection', old connection removed.\n"
     ]
    },
    {
     "name": "stdout",
     "output_type": "stream",
     "text": [
      "True\n",
      "False\n",
      "False\n",
      "False\n"
     ]
    },
    {
     "name": "stderr",
     "output_type": "stream",
     "text": [
      "QSqlDatabasePrivate::removeDatabase: connection 'qt_sql_default_connection' is still in use, all queries will cease to work.\n",
      "QSqlDatabasePrivate::addDatabase: duplicate connection name 'qt_sql_default_connection', old connection removed.\n"
     ]
    },
    {
     "name": "stdout",
     "output_type": "stream",
     "text": [
      "True\n",
      "False\n",
      "False\n",
      "False\n"
     ]
    },
    {
     "name": "stderr",
     "output_type": "stream",
     "text": [
      "QSqlDatabasePrivate::removeDatabase: connection 'qt_sql_default_connection' is still in use, all queries will cease to work.\n",
      "QSqlDatabasePrivate::addDatabase: duplicate connection name 'qt_sql_default_connection', old connection removed.\n"
     ]
    },
    {
     "name": "stdout",
     "output_type": "stream",
     "text": [
      "True\n",
      "False\n",
      "False\n",
      "False\n"
     ]
    },
    {
     "ename": "SystemExit",
     "evalue": "0",
     "output_type": "error",
     "traceback": [
      "An exception has occurred, use %tb to see the full traceback.\n",
      "\u001b[0;31mSystemExit\u001b[0m\u001b[0;31m:\u001b[0m 0\n"
     ]
    },
    {
     "name": "stderr",
     "output_type": "stream",
     "text": [
      "/Users/cenghuangjia/opt/anaconda3/envs/hank/lib/python3.7/site-packages/IPython/core/interactiveshell.py:3452: UserWarning: To exit: use 'exit', 'quit', or Ctrl-D.\n",
      "  warn(\"To exit: use 'exit', 'quit', or Ctrl-D.\", stacklevel=1)\n"
     ]
    }
   ],
   "source": [
    "from PyQt5 import QtCore, QtGui, QtWidgets ,QtSql\n",
    "from PyQt5.QtCore import *\n",
    "from login_window import Ui_MainWindow as login_ui\n",
    "#from register_window import Ui_MainWindow as register_ui\n",
    "from register import *\n",
    "from page import *\n",
    "from manager_page import *\n",
    "import sys\n",
    "from PyQt5.QtWidgets import QFileDialog, QMessageBox, QDockWidget, QListWidget\n",
    "from PyQt5.QtGui import *\n",
    "#import class_MSSQL\n",
    "from PyQt5.QtSql import QSqlDatabase,QSqlQuery\n",
    "\n",
    "\n",
    "#from class_MSSQL import MSSQL\n",
    "class Login_Window(QtWidgets.QMainWindow):\n",
    "    def __init__(self):\n",
    "        super(Login_Window, self).__init__()\n",
    "        self.ui = login_ui()\n",
    "        self.ui.setupUi(self)\n",
    "        self.setWindowTitle('工讀生排班系統')\n",
    "        \n",
    "        \n",
    "        \n",
    "        #self.query.exec(\"Create Table User_info (User_name varchar(20) NOT NULL,Password varchar(20) NOT NULL, Email varchar(30) , Phone_number varchar(20) , Name varchar(30) , School_id varchar(30) , Department varchar(30) , Post_office varchar(30) )\")\n",
    "        #insert manager\n",
    "        '''self.query.exec(\"Select User_name From User_info Where User_name = 'manager'\")\n",
    "        if not self.query.next():\n",
    "            self.query.exec(\"Insert Into User_info(User_name , Password)\"\"VALUES('Manager','123')\")\n",
    "            self.query.exec(\"Insert Into User_info(User_name , Password)\"\"VALUES('manager','123')\")'''\n",
    "        self.ui.pushButton_2.clicked.connect(self.register)\n",
    "        self.ui.pushButton.clicked.connect(self.login)\n",
    "        \n",
    "    def register(self):\n",
    "        \n",
    "        register_window.show()\n",
    "        #self.close()\n",
    "        \n",
    "        \n",
    "    def login(self):\n",
    "        self.user_name = self.ui.lineEdit.text()\n",
    "        self.password = self.ui.lineEdit_2.text()\n",
    "        #print('123',self.db)\n",
    "        self.db = QtSql.QSqlDatabase.addDatabase('QSQLITE')\n",
    "        self.db.setDatabaseName('DB.sqlite') \n",
    "        self.db.open()\n",
    "        self.query = QSqlQuery() \n",
    "        #print(self.db.open() )\n",
    "        \n",
    "        \n",
    "        self.query.exec(\"Select User_name From User_info Where User_name = '{}' And Password = '{}' \".format(self.user_name,self.password) )\n",
    "        if self.query.next():\n",
    "            QMessageBox.about(self,'提醒','登入成功！')\n",
    "            if self.user_name == 'manager' or self.user_name =='Manager':\n",
    "                manager_page_window.show()\n",
    "                manager_page_window.set_message()\n",
    "                self.close()\n",
    "            else:\n",
    "                page_window.get_message(self.user_name, self.password)\n",
    "                page_window.show()\n",
    "                page_window.set_message()\n",
    "                self.close()\n",
    "        else:\n",
    "            QMessageBox.about(self,'提醒','無此使用者或密碼錯誤！')\n",
    "        \n",
    "        \n",
    "    \n",
    "        \n",
    "        \n",
    "        \n",
    "        \n",
    "        \n",
    "        \n",
    "        \n",
    "\n",
    "if __name__ == '__main__':\n",
    "    app = QtWidgets.QApplication([])\n",
    "    window = Login_Window()\n",
    "    \n",
    "    register_window = Register_Window()\n",
    "    page_window = Page_Window()\n",
    "    manager_page_window = Manager_Page_Window()\n",
    "    window.show()\n",
    "    \n",
    "    sys.exit(app.exec_())"
   ]
  },
  {
   "cell_type": "code",
   "execution_count": null,
   "id": "4f901d54",
   "metadata": {},
   "outputs": [],
   "source": []
  }
 ],
 "metadata": {
  "kernelspec": {
   "display_name": "Python 3 (ipykernel)",
   "language": "python",
   "name": "python3"
  },
  "language_info": {
   "codemirror_mode": {
    "name": "ipython",
    "version": 3
   },
   "file_extension": ".py",
   "mimetype": "text/x-python",
   "name": "python",
   "nbconvert_exporter": "python",
   "pygments_lexer": "ipython3",
   "version": "3.7.11"
  }
 },
 "nbformat": 4,
 "nbformat_minor": 5
}
